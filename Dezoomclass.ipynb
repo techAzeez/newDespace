{
 "cells": [
  {
   "cell_type": "code",
   "execution_count": 2,
   "id": "077d86fd-329b-4e80-b48f-c66b9c1e7c04",
   "metadata": {},
   "outputs": [
    {
     "name": "stdout",
     "output_type": "stream",
     "text": [
      "Hello world in code space\n"
     ]
    }
   ],
   "source": [
    "print('Hello world in code space')"
   ]
  },
  {
   "cell_type": "code",
   "execution_count": null,
   "id": "d2a48e6a-a12b-430c-aa71-9d5e9c3ced28",
   "metadata": {},
   "outputs": [],
   "source": []
  }
 ],
 "metadata": {
  "kernelspec": {
   "display_name": "Python 3 (ipykernel)",
   "language": "python",
   "name": "python3"
  },
  "language_info": {
   "codemirror_mode": {
    "name": "ipython",
    "version": 3
   },
   "file_extension": ".py",
   "mimetype": "text/x-python",
   "name": "python",
   "nbconvert_exporter": "python",
   "pygments_lexer": "ipython3",
   "version": "3.10.13"
  }
 },
 "nbformat": 4,
 "nbformat_minor": 5
}
